{
 "cells": [
  {
   "cell_type": "markdown",
   "id": "519a7662",
   "metadata": {},
   "source": [
    "# My Jupyter Notebook on IBM Watson Studio"
   ]
  },
  {
   "cell_type": "markdown",
   "id": "4e3b9b87",
   "metadata": {},
   "source": [
    "**Sharne Swanepoel**\n",
    "\n",
    "Current Business Analyst"
   ]
  },
  {
   "cell_type": "markdown",
   "id": "6859c540",
   "metadata": {},
   "source": [
    "*I am interested in data science because Data science is a combination of various disciplines that demands you to continuously learn new skills. It is not monotonous work where you'll have to do the same thing again and again. Each new set of data will serve as a new challenge for me.*"
   ]
  },
  {
   "cell_type": "markdown",
   "id": "72993f53",
   "metadata": {},
   "source": [
    "### Print \"Hello World\""
   ]
  },
  {
   "cell_type": "code",
   "execution_count": 4,
   "id": "eb0232c6",
   "metadata": {},
   "outputs": [
    {
     "name": "stdout",
     "output_type": "stream",
     "text": [
      "Hello World\n"
     ]
    }
   ],
   "source": [
    "print(\"Hello World\")"
   ]
  },
  {
   "cell_type": "markdown",
   "id": "aff09cf3",
   "metadata": {},
   "source": [
    "1. First ordered list item\n",
    "2. Another item\n",
    "\n",
    "Inline `code` has `back-ticks around` it.\n",
    "\n",
    "[Hyperlink to a What makes Data Science eciting Article](https://www.datacamp.com/community/blog/what-is-data-science-exciting)\n"
   ]
  },
  {
   "cell_type": "code",
   "execution_count": null,
   "id": "1019ef14",
   "metadata": {},
   "outputs": [],
   "source": []
  }
 ],
 "metadata": {
  "kernelspec": {
   "display_name": "Python 3 (ipykernel)",
   "language": "python",
   "name": "python3"
  },
  "language_info": {
   "codemirror_mode": {
    "name": "ipython",
    "version": 3
   },
   "file_extension": ".py",
   "mimetype": "text/x-python",
   "name": "python",
   "nbconvert_exporter": "python",
   "pygments_lexer": "ipython3",
   "version": "3.9.7"
  }
 },
 "nbformat": 4,
 "nbformat_minor": 5
}
